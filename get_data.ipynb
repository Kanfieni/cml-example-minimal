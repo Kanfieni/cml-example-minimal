{
 "cells": [
  {
   "cell_type": "code",
   "execution_count": 1,
   "id": "13c159ce-222d-496c-8745-d91f4a7d7b2f",
   "metadata": {},
   "outputs": [],
   "source": [
    "from sklearn.datasets import make_classification\n",
    "from sklearn.model_selection import train_test_split\n",
    "import numpy as np\n",
    "import os\n",
    "\n",
    "seed = 42\n",
    "# Generate data\n",
    "X, y = make_classification(n_samples=1000, random_state=seed)\n",
    "\n",
    "# Make a train/test split\n",
    "X_train, X_test, y_train, y_test = train_test_split(X, y, random_state=seed)\n",
    "\n",
    "# Save it\n",
    "if not os.path.isdir(\"data\"):\n",
    "    os.mkdir(\"data\")\n",
    "np.savetxt(\"data/train_features.csv\", X_train)\n",
    "np.savetxt(\"data/test_features.csv\", X_test)\n",
    "np.savetxt(\"data/train_labels.csv\", y_train)\n",
    "np.savetxt(\"data/test_labels.csv\", y_test)\n"
   ]
  },
  {
   "cell_type": "code",
   "execution_count": null,
   "id": "6a8088fa-56d7-4049-b0cc-2b1ef17cfe54",
   "metadata": {},
   "outputs": [],
   "source": []
  }
 ],
 "metadata": {
  "kernelspec": {
   "display_name": "Python 3 (ipykernel)",
   "language": "python",
   "name": "python3"
  },
  "language_info": {
   "codemirror_mode": {
    "name": "ipython",
    "version": 3
   },
   "file_extension": ".py",
   "mimetype": "text/x-python",
   "name": "python",
   "nbconvert_exporter": "python",
   "pygments_lexer": "ipython3",
   "version": "3.11.7"
  }
 },
 "nbformat": 4,
 "nbformat_minor": 5
}
